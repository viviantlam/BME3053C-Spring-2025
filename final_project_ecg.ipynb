{
  "cells": [
    {
      "cell_type": "markdown",
      "metadata": {
        "id": "view-in-github",
        "colab_type": "text"
      },
      "source": [
        "<a href=\"https://colab.research.google.com/github/viviantlam/BME3053C-Spring-2025/blob/main/final_project_ecg.ipynb\" target=\"_parent\"><img src=\"https://colab.research.google.com/assets/colab-badge.svg\" alt=\"Open In Colab\"/></a>"
      ]
    },
    {
      "cell_type": "code",
      "execution_count": 2,
      "metadata": {
        "id": "9aBZylcwqklt"
      },
      "outputs": [],
      "source": [
        "#Group Project: Angela Liang, Ece Sarioglu, Ankitha Nath, Siri Yarrapatni, Vivian Lam, Alana Young"
      ]
    },
    {
      "cell_type": "markdown",
      "metadata": {
        "id": "kK1FuXPr3lhz"
      },
      "source": [
        "Repositories: https://github.com/huggingface/transformers/tree/main/src/transformers/models/longformer\n",
        "https://github.com/allenai/longformer"
      ]
    },
    {
      "cell_type": "markdown",
      "metadata": {
        "id": "aW_cNaQS3lh1"
      },
      "source": [
        "Dataset: https://physionet.org/content/ecg-arrhythmia/1.0.0/"
      ]
    },
    {
      "cell_type": "code",
      "execution_count": 7,
      "metadata": {
        "colab": {
          "base_uri": "https://localhost:8080/"
        },
        "id": "rbDGFKl73lh2",
        "outputId": "f5cf1479-ca30-4703-d529-134e1831bdde"
      },
      "outputs": [
        {
          "output_type": "execute_result",
          "data": {
            "text/plain": [
              "<torch._C.Generator at 0x7bb3beaed910>"
            ]
          },
          "metadata": {},
          "execution_count": 7
        }
      ],
      "source": [
        "# Import libraries for data manipulation and visualization\n",
        "import pandas as pd\n",
        "import numpy as np\n",
        "import matplotlib.pyplot as plt\n",
        "import seaborn as sns\n",
        "\n",
        "# Import libraries for signal processing\n",
        "from scipy.signal import butter, lfilter, welch\n",
        "\n",
        "# Import libraries for machine learning and evaluation\n",
        "from sklearn.model_selection import train_test_split\n",
        "from sklearn.preprocessing import StandardScaler, LabelEncoder\n",
        "from sklearn.metrics import classification_report, confusion_matrix, accuracy_score\n",
        "\n",
        "# Import PyTorch and Hugging Face Transformers for Longformer\n",
        "import torch\n",
        "from torch.utils.data import Dataset, DataLoader\n",
        "from transformers import LongformerTokenizer, LongformerModel, LongformerForSequenceClassification\n",
        "\n",
        "# Import additional utilities\n",
        "import os\n",
        "import warnings\n",
        "warnings.filterwarnings('ignore')\n",
        "\n",
        "# For reproducibility\n",
        "np.random.seed(42)\n",
        "torch.manual_seed(42)"
      ]
    },
    {
      "cell_type": "code",
      "source": [
        "# Install required libraries\n",
        "pip install wfdb\n",
        "pip install transformers\n",
        "pip install datasets\n",
        "pip install scikit-learn\n"
      ],
      "metadata": {
        "colab": {
          "base_uri": "https://localhost:8080/",
          "height": 106
        },
        "id": "h7hHX1Ff31iR",
        "outputId": "124edb66-c06a-4da3-b5d6-dc2423d710af"
      },
      "execution_count": 6,
      "outputs": [
        {
          "output_type": "error",
          "ename": "SyntaxError",
          "evalue": "invalid syntax (<ipython-input-6-9698d03d04bf>, line 3)",
          "traceback": [
            "\u001b[0;36m  File \u001b[0;32m\"<ipython-input-6-9698d03d04bf>\"\u001b[0;36m, line \u001b[0;32m3\u001b[0m\n\u001b[0;31m    pip install numpy\u001b[0m\n\u001b[0m        ^\u001b[0m\n\u001b[0;31mSyntaxError\u001b[0m\u001b[0;31m:\u001b[0m invalid syntax\n"
          ]
        }
      ]
    },
    {
      "cell_type": "code",
      "source": [
        "# Load and Preprocess ECG Record\n",
        "import wfdb\n",
        "import numpy as np\n",
        "from sklearn.preprocessing import MinMaxScaler\n",
        "\n",
        "# Load the ECG record\n",
        "record = wfdb.rdrecord('path_to_record_folder/086')\n",
        "signal = record.p_signal  # Shape: (n_samples, 12)\n",
        "\n",
        "# Choose a lead or average all leads\n",
        "lead_signal = signal[:, 0]  # Example: Lead I\n",
        "# Normalize signal\n",
        "scaler = MinMaxScaler()\n",
        "lead_signal = scaler.fit_transform(lead_signal.reshape(-1, 1)).flatten()\n"
      ],
      "metadata": {
        "id": "OiQ8hKD45cS9"
      },
      "execution_count": null,
      "outputs": []
    }
  ],
  "metadata": {
    "colab": {
      "provenance": [],
      "include_colab_link": true
    },
    "kernelspec": {
      "display_name": "Python 3",
      "name": "python3"
    },
    "language_info": {
      "codemirror_mode": {
        "name": "ipython",
        "version": 3
      },
      "file_extension": ".py",
      "mimetype": "text/x-python",
      "name": "python",
      "nbconvert_exporter": "python",
      "pygments_lexer": "ipython3",
      "version": "3.12.1"
    }
  },
  "nbformat": 4,
  "nbformat_minor": 0
}